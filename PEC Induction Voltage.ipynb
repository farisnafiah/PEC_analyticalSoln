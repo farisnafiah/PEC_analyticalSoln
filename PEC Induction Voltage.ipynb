{
 "cells": [
  {
   "cell_type": "markdown",
   "metadata": {},
   "source": [
    "# Analytical Solution for Transmit-Receive (Coaxial) Pulsed Eddy Current probe"
   ]
  },
  {
   "cell_type": "markdown",
   "metadata": {},
   "source": [
    "<div style=\"display: flex; flex-direction:row\">\n",
    "    <div style=\"margin:auto;\">\n",
    "        <h3>ECT coil above a multilayered conductor.</h3>\n",
    "        <img src=\"Coil_stratif_cond.png\" style=\"width:600px;\">\n",
    "    </div>\n",
    "</div>"
   ]
  },
  {
   "cell_type": "code",
   "execution_count": 1,
   "metadata": {},
   "outputs": [],
   "source": [
    "import numpy as np\n",
    "import pandas as pd\n",
    "import matplotlib.pyplot as plt\n",
    "from scipy import signal\n",
    "from scipy.fft import fft, ifft\n",
    "import math"
   ]
  },
  {
   "cell_type": "code",
   "execution_count": 2,
   "metadata": {},
   "outputs": [],
   "source": [
    "J1roots=np.array( [3.831705970207512,7.015586669815622,10.173468135062722,\\\n",
    "         13.323691936314223,16.470630050877634,19.615858510468243,\\\n",
    "         22.760084380592772,25.903672087618382,29.046828534916855,\\\n",
    "         32.189679910974405,35.33230755008387,38.474766234771614,\\\n",
    "         41.61709421281445,44.75931899765282,47.90146088718545,\\\n",
    "         51.04353518357151,54.18555364106132,57.32752543790102,\\\n",
    "         60.46945784534748,63.611356698481245,66.7532267340985,\\\n",
    "         69.89507183749578,73.03689522557384,76.17869958464146,\\\n",
    "         79.3204871754763,82.46225991437356,85.60401943635023,88.7457671449263,\\\n",
    "         91.88750425169499,95.0292318080447,98.17095073079078,\\\n",
    "         101.31266182303874,104.45436579128275,107.59606325950918,\\\n",
    "         110.73775478089921,113.87944084759499,117.02112189889243,\\\n",
    "         120.16279832814901,123.30447048863572,126.44613869851659,\\\n",
    "         129.587803245104,132.72946438850963,135.871122364789,\\\n",
    "         139.0127773886597,142.15442965585902,145.29607934519592,\\\n",
    "         148.43772662034223,151.57937163140141,154.72101451628595,\\\n",
    "         157.8626554019303,161.004294405362,164.14593163464963,\\\n",
    "         167.2875671897441,170.42920116322662,173.57083364097593,\\\n",
    "         176.71246470276375,179.8540944227884,182.99572287015297,\\\n",
    "         186.1373501092955,189.278976200376,192.4206011996257,\\\n",
    "         195.56222515966257,198.70384812977704,201.84547015619088,\\\n",
    "         204.98709128229234,208.12871154885005,211.27033099420777,\\\n",
    "         214.41194965446198,217.5535675636242,220.69518475376935,\\\n",
    "         223.83680125517174,226.97841709642947,230.1200323045791,\\\n",
    "         233.26164690520062,236.4032609225143,239.54487437946986,\\\n",
    "         242.6864872978287,245.8280996982398,248.96971160030995,\\\n",
    "         252.11132302266859,255.25293398302813,258.3945444982395,\\\n",
    "         261.53615458434405,264.6777642566215,267.81937352963456,\\\n",
    "         270.9609824172707,274.1025909327807,277.2441990888146,\\\n",
    "         280.3858068974556,283.5274143702514,286.6690215182434,\\\n",
    "         289.8106283519944,292.9522348816139,296.09384111678247,\\\n",
    "         299.23544706677416,302.3770527404775,305.5186581464156,\\\n",
    "         308.6602632927644,311.8018681873705,314.94347283776716] )"
   ]
  },
  {
   "cell_type": "code",
   "execution_count": 3,
   "metadata": {},
   "outputs": [],
   "source": [
    "kHz=1.0e3 \n",
    "mm=1.0e-3\n",
    "MSm=1.0e6\n",
    "m0=math.pi*4.0e-7;\n",
    "\n",
    "dt = 2.5e-5\n",
    "t = np.arange(0, 40e-3+dt, dt)\n",
    "current = signal.square(2 * math.pi * 25 * t)*0.5+0.5\n",
    "current[0] = 0.5\n",
    "current[int((len(current)-1)/2)] = 0.5\n",
    "current[len(current)-1] = 0\n",
    "Fs = 1/dt\n",
    "N = len(current)      #length(current_feval)\n",
    "f = Fs*np.arange(N/2)/N\n",
    "current_infreq = fft(current)"
   ]
  },
  {
   "cell_type": "code",
   "execution_count": 4,
   "metadata": {},
   "outputs": [],
   "source": [
    "#coil turns\n",
    "WT=800\n",
    "#excitation current maximum in the coil\n",
    "cur=current_infreq\n",
    "#excitation current frequency and angular frequency (exponential distribution)\n",
    "fnew = np.concatenate((f, np.flip(f[1:])*-1))\n",
    "omega=2.0*math.pi*fnew\n",
    "#inner and outer radius of the coil\n",
    "r1=10*mm\n",
    "r2=30*mm\n",
    "# Lift-off, coil bottom/top pos (bottom pos+coil thickness)\n",
    "l0 = 0.5*mm\n",
    "z1=l0\n",
    "z2=z1+40*mm\n",
    "# excitation current density in the coil\n",
    "i0=WT*cur/((r2-r1)*(z2-z1))\n",
    "\n",
    "#metal plate conductivity and conductivity of air\n",
    "sigma = 1.6*MSm\n",
    "sigma = np.append(sigma, 0*MSm)\n",
    "sigma = np.append(sigma, 0*MSm)\n",
    "sigma = np.append(sigma, 0*MSm) # dummy\n",
    "mu = 600\n",
    "mu = np.append(mu, 1)\n",
    "mu = np.append(mu, 1)\n",
    "mu = np.append(mu, 1) # dummy\n",
    "d = 5*mm\n",
    "d = np.append(d, np.inf)\n",
    "d = np.append(d, np.inf) # dummy. of no use, but recursive formula needs it\n",
    "L = 2 # number of layer\n",
    "\n",
    "r1_i=76*mm\n",
    "r2_i=79*mm\n",
    "z1_i=0.6*mm\n",
    "z2_i=3*mm\n",
    "WT_i = 400\n",
    "h=20*r2 # truncated domain\n",
    "summation_terms = 100 # summation tem\n",
    "\n",
    "# compute alpha, i-th positive root of eqn J1(alpha.h) = 0\n",
    "# how much i we want? Answer => i=100\n",
    "alpha=J1roots/h;"
   ]
  },
  {
   "cell_type": "code",
   "execution_count": 5,
   "metadata": {},
   "outputs": [],
   "source": [
    "# compute Chi(alpha*r1,alpha*r2) ## chi is actually X in greek\n",
    "# formula of Chi : Chi(x1,x2)=integrate[ x*Bessel(x) ] dx\n",
    "# to solve this, use int from matlab, or summation relation\n",
    "\n",
    "x1 = alpha*r1\n",
    "x2 = alpha*r2\n",
    "x1_i = alpha*r1_i\n",
    "x2_i = alpha*r2_i\n",
    "\n",
    "from scipy.integrate import quad\n",
    "from scipy.special import jv\n",
    "\n",
    "f_bessel = lambda x: x*jv(1,x)\n",
    "\n",
    "Chi = np.zeros(100)\n",
    "Chi_i = np.zeros(100)\n",
    "for n in range(summation_terms):\n",
    "    y, err = quad(f_bessel, x1[n],x2[n])\n",
    "    Chi[n] = y\n",
    "    y, err = quad(f_bessel, x1_i[n],x2_i[n] )\n",
    "    Chi_i[n] = y"
   ]
  },
  {
   "cell_type": "code",
   "execution_count": 6,
   "metadata": {},
   "outputs": [],
   "source": [
    "# Rprime_calc\n",
    "def Rprime_calc(xx, L, alpha, nn, omega, d, mu, m0, sigma):\n",
    "    if xx == L-1:\n",
    "        beta_pres = np.sqrt((alpha[nn])**2 + 1j*omega*mu[xx-1]*m0*sigma[xx-1])\n",
    "        beta_future = np.sqrt( (alpha[nn])**2 + 1j*omega*mu[xx]*m0*sigma[xx])\n",
    "        \n",
    "        Rprime_temp = (mu[xx]*m0*beta_pres-mu[xx-1]*m0*beta_future)/(mu[xx]*m0*beta_pres+mu[xx-1]*m0*beta_future)\n",
    "    elif xx == 0:\n",
    "        beta_pres = alpha[nn]\n",
    "        beta_future = np.sqrt((alpha[nn])**2+1j*omega*mu[xx]*m0*sigma[xx])\n",
    "        R = (mu[xx]*m0*beta_pres-m0*beta_future)\\\n",
    "        /(mu[xx]*m0*beta_pres+m0*beta_future)\n",
    "        \n",
    "        Rprime_temp = ( R + Rprime_calc(xx+1, L, alpha, nn, omega, d, mu, m0, sigma)\\\n",
    "        *np.exp(-2*beta_future*(d[xx])) )\\\n",
    "        / (1 + R * Rprime_calc(xx+1, L, alpha, nn, omega, d, mu, m0, sigma)\\\n",
    "        *np.exp(-2*beta_future*( d[xx] ) )   )\n",
    "    else:\n",
    "        beta_pres = sqrt( (alpha(nn))**2 + 1j*omega*mu[xx-1]*m0*sigma(xx-1)   );\n",
    "        beta_future = sqrt( (alpha(nn))**2 + 1j*omega*mu[xx]*m0*sigma(xx) );\n",
    "    \n",
    "        R = (mu[xx]*m0*beta_pres-mu[xx-1]*m0*beta_future)/(mu[xx]*m0*beta_pres+mu[xx-1]*m0*beta_future)\n",
    "    \n",
    "        Rprime_temp = ( R + Rprime_calc(xx+1, L, alpha, nn, omega, d, mu, m0, sigma)\\\n",
    "        *np.exp(-2*beta_future*(d[xx]-d[xx-1])) )\\\n",
    "        / (1 + R * Rprime_calc(xx+1, L, alpha, nn, omega, d, mu, m0, sigma)\\\n",
    "        *np.exp(-2*beta_future*( d[xx]-d[xx-1] ) )   )\n",
    "    return Rprime_temp;"
   ]
  },
  {
   "cell_type": "code",
   "execution_count": 7,
   "metadata": {
    "scrolled": false
   },
   "outputs": [],
   "source": [
    "# final solution here\n",
    "deltaV = np.zeros(len(fnew), dtype=complex)\n",
    "for nn_freq, val_freq in enumerate(omega):\n",
    "    temp_variable = np.zeros(100, dtype=complex)\n",
    "    for nn in range(summation_terms):\n",
    "        Rprime = Rprime_calc(0, L, alpha, nn, val_freq, d, mu, m0, sigma)\n",
    "        temp_variable1 = Chi[nn] * Chi_i[nn] * ( np.exp(-alpha[nn]*z2) - np.exp(-alpha[nn]*z1) )\\\n",
    "            * ( np.exp(-alpha[nn]*z2_i) - np.exp(-alpha[nn]*z1_i) )\n",
    "        temp_variable2 = alpha[nn]**5 * ((alpha[nn] * h) * jv(0,alpha[nn]*h) )**2\n",
    "        temp_variable[nn] = temp_variable1 * Rprime/temp_variable2\n",
    "        \n",
    "    deltaV[nn_freq] = 1j*2*math.pi*val_freq*WT_i*WT*m0*cur[nn_freq]*np.sum(temp_variable)/((z2_i-z1_i)*(z2-z1)*(r2_i-r1_i)*(r2-r1))\n",
    "    \n",
    "deltaV_intime = np.real(ifft(deltaV))"
   ]
  },
  {
   "cell_type": "code",
   "execution_count": 8,
   "metadata": {},
   "outputs": [],
   "source": [
    "N2 = math.floor(len(deltaV)/2);\n",
    "N3 = math.ceil(len(deltaV)/2);\n",
    "i = np.arange(N2+1)\n",
    "i = np.append(i, np.arange(-N2,-1))\n",
    "nf = N2\n",
    "sigma1 = np.exp(np.log(np.spacing(1))*(i/N3)**(3) ) # exponential filter\n",
    "sigmaa1 = np.append(sigma1[0:N3], np.flip(sigma1[1:N3]))\n",
    "deltaV_sigma1 = np.multiply(deltaV,sigmaa1)\n",
    "deltaV_intime1 = np.real(ifft(deltaV_sigma1))"
   ]
  },
  {
   "cell_type": "code",
   "execution_count": 9,
   "metadata": {},
   "outputs": [
    {
     "data": {
      "text/plain": [
       "Text(0.5, 1.0, 'Sensed signal for transmit-receive (coaxial) PEC coil')"
      ]
     },
     "execution_count": 9,
     "metadata": {},
     "output_type": "execute_result"
    },
    {
     "data": {
      "image/png": "[encoded data removed]",
      "text/plain": [
       "<Figure size 432x288 with 1 Axes>"
      ]
     },
     "metadata": {
      "needs_background": "light"
     },
     "output_type": "display_data"
    }
   ],
   "source": [
    "plt.plot(t, deltaV_intime)\n",
    "plt.plot(t, deltaV_intime1, '--')\n",
    "plt.yscale('log')\n",
    "plt.xlim([0, 0.02])\n",
    "plt.xlabel('Time, s')\n",
    "plt.ylabel('Induced voltage, V')\n",
    "plt.legend(['raw signal', 'filtered signal'])\n",
    "plt.title('Sensed signal for transmit-receive (coaxial) PEC coil')"
   ]
  },
  {
   "cell_type": "code",
   "execution_count": null,
   "metadata": {},
   "outputs": [],
   "source": []
  }
 ],
 "metadata": {
  "kernelspec": {
   "display_name": "Python 3",
   "language": "python",
   "name": "python3"
  },
  "language_info": {
   "codemirror_mode": {
    "name": "ipython",
    "version": 3
   },
   "file_extension": ".py",
   "mimetype": "text/x-python",
   "name": "python",
   "nbconvert_exporter": "python",
   "pygments_lexer": "ipython3",
   "version": "3.7.7"
  }
 },
 "nbformat": 4,
 "nbformat_minor": 4
}
